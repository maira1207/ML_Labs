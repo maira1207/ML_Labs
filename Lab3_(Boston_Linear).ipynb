{
  "nbformat": 4,
  "nbformat_minor": 0,
  "metadata": {
    "colab": {
      "name": "Lab3 (Boston Linear)_.ipynb",
      "provenance": []
    },
    "kernelspec": {
      "name": "python3",
      "display_name": "Python 3"
    }
  },
  "cells": [
    {
      "cell_type": "markdown",
      "metadata": {
        "id": "tBfl1hHQjLln",
        "colab_type": "text"
      },
      "source": [
        "**Abiyr Maira** <br>\n",
        "**Lab3 (Boston Linear)**"
      ]
    },
    {
      "cell_type": "code",
      "metadata": {
        "id": "Y53VlMAKgOCk",
        "colab_type": "code",
        "colab": {}
      },
      "source": [
        "from sklearn.datasets import load_boston\n",
        "from sklearn.metrics import mean_squared_error\n",
        "import matplotlib.pyplot as plt\n",
        "from sklearn.model_selection import train_test_split\n",
        "from sklearn.ensemble import GradientBoostingRegressor\n",
        "\n",
        "\n",
        "data = load_boston()"
      ],
      "execution_count": 0,
      "outputs": []
    },
    {
      "cell_type": "code",
      "metadata": {
        "id": "TsoBwuX9jXSj",
        "colab_type": "code",
        "colab": {
          "base_uri": "https://localhost:8080/",
          "height": 225
        },
        "outputId": "d26a8c02-598a-4d20-f557-e48f3a60caf1"
      },
      "source": [
        "plt.figure(figsize=(4, 3))\n",
        "plt.hist(data.target)\n",
        "plt.xlabel('Price ($1000s)')\n",
        "plt.ylabel('count')\n",
        "plt.tight_layout()"
      ],
      "execution_count": 11,
      "outputs": [
        {
          "output_type": "display_data",
          "data": {
            "image/png": "[encoded data removed]",
            "text/plain": [
              "<Figure size 288x216 with 1 Axes>"
            ]
          },
          "metadata": {
            "tags": []
          }
        }
      ]
    },
    {
      "cell_type": "code",
      "metadata": {
        "id": "wJ3A36o4jd3U",
        "colab_type": "code",
        "colab": {
          "base_uri": "https://localhost:8080/",
          "height": 225
        },
        "outputId": "d59a30f6-a46f-4786-cb92-7f2f3c548aff"
      },
      "source": [
        "X_train, X_test, y_train, y_test = train_test_split(data.data, data.target)\n",
        "\n",
        "from sklearn.linear_model import LinearRegression\n",
        "clf = LinearRegression()\n",
        "clf.fit(X_train, y_train)\n",
        "predicted = clf.predict(X_test)\n",
        "expected = y_test\n",
        "\n",
        "plt.figure(figsize=(4, 3))\n",
        "plt.scatter(expected, predicted)\n",
        "plt.plot([0, 50], [0, 50], '--k')\n",
        "plt.axis('tight')\n",
        "plt.xlabel('True price ($1000s)')\n",
        "plt.ylabel('Predicted price ($1000s)')\n",
        "plt.tight_layout()"
      ],
      "execution_count": 27,
      "outputs": [
        {
          "output_type": "display_data",
          "data": {
            "image/png": "[encoded data removed]",
            "text/plain": [
              "<Figure size 288x216 with 1 Axes>"
            ]
          },
          "metadata": {
            "tags": []
          }
        }
      ]
    },
    {
      "cell_type": "code",
      "metadata": {
        "id": "V1rqy6ysjofh",
        "colab_type": "code",
        "colab": {
          "base_uri": "https://localhost:8080/",
          "height": 35
        },
        "outputId": "b0b4c31a-8725-4084-b243-f9bee98d7257"
      },
      "source": [
        "# Results of Linear Regression. \n",
        "mse = mean_squared_error(expected, predicted) \n",
        "print(\"Mean Square Error : \", mse) "
      ],
      "execution_count": 28,
      "outputs": [
        {
          "output_type": "stream",
          "text": [
            "Mean Square Error :  19.047763878988217\n"
          ],
          "name": "stdout"
        }
      ]
    },
    {
      "cell_type": "code",
      "metadata": {
        "id": "rlf_6ruClu5_",
        "colab_type": "code",
        "colab": {
          "base_uri": "https://localhost:8080/",
          "height": 225
        },
        "outputId": "18c4b040-8cb6-48ae-8f0d-c896aa298bb0"
      },
      "source": [
        "clf = GradientBoostingRegressor()\n",
        "clf.fit(X_train, y_train)\n",
        "\n",
        "predicted = clf.predict(X_test)\n",
        "expected = y_test\n",
        "\n",
        "plt.figure(figsize=(4, 3))\n",
        "plt.scatter(expected, predicted)\n",
        "plt.plot([0, 50], [0, 50], '--k')\n",
        "plt.axis('tight')\n",
        "plt.xlabel('True price ($1000s)')\n",
        "plt.ylabel('Predicted price ($1000s)')\n",
        "plt.tight_layout()"
      ],
      "execution_count": 29,
      "outputs": [
        {
          "output_type": "display_data",
          "data": {
            "image/png": "[encoded data removed]",
            "text/plain": [
              "<Figure size 288x216 with 1 Axes>"
            ]
          },
          "metadata": {
            "tags": []
          }
        }
      ]
    },
    {
      "cell_type": "code",
      "metadata": {
        "id": "D9qIoqYHlx8n",
        "colab_type": "code",
        "colab": {
          "base_uri": "https://localhost:8080/",
          "height": 35
        },
        "outputId": "ca3a147f-178d-4b92-dccb-418b1555075d"
      },
      "source": [
        "# Results of GradientBoostingRegressor. \n",
        "mse = mean_squared_error(expected, predicted) \n",
        "print(\"Mean Square Error : \", mse) "
      ],
      "execution_count": 30,
      "outputs": [
        {
          "output_type": "stream",
          "text": [
            "Mean Square Error :  5.696918007385163\n"
          ],
          "name": "stdout"
        }
      ]
    }
  ]
}